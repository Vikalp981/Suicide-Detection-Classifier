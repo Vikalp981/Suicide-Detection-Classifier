{
 "cells": [
  {
   "cell_type": "markdown",
   "id": "5cb8fb33",
   "metadata": {},
   "source": [
    "# Importing necessary libraries which might be used during analysis"
   ]
  },
  {
   "cell_type": "code",
   "execution_count": 1,
   "id": "1040bff5",
   "metadata": {},
   "outputs": [],
   "source": [
    "# Following Libraries are being used\n",
    "import pandas as pd\n",
    "import numpy as np\n",
    "import seaborn as sns\n",
    "import matplotlib.pyplot as plt\n",
    "import itertools\n",
    "import time\n",
    "import ctypes\n",
    "import os.path\n",
    "import re\n",
    "import os\n",
    "import statsmodels.api as sm\n",
    "from sklearn import linear_model #For missing values\n",
    "from sklearn.preprocessing import StandardScaler #For scaling features\n",
    "\n",
    "from sklearn.model_selection import train_test_split\n",
    "from sklearn.metrics import mean_squared_error\n",
    "from sklearn.linear_model import LinearRegression #Linear Regressor"
   ]
  },
  {
   "cell_type": "markdown",
   "id": "110216cf",
   "metadata": {},
   "source": [
    "## Reading the data"
   ]
  },
  {
   "cell_type": "code",
   "execution_count": 2,
   "id": "0c41fac0",
   "metadata": {},
   "outputs": [],
   "source": [
    "data=pd.read_csv(\"Suicide_Detection_clean.csv\")"
   ]
  },
  {
   "cell_type": "markdown",
   "id": "8e6e3b66",
   "metadata": {},
   "source": [
    "## Seeing the first five records of the dataset"
   ]
  },
  {
   "cell_type": "code",
   "execution_count": 3,
   "id": "3c193959",
   "metadata": {},
   "outputs": [
    {
     "data": {
      "text/html": [
       "<div>\n",
       "<style scoped>\n",
       "    .dataframe tbody tr th:only-of-type {\n",
       "        vertical-align: middle;\n",
       "    }\n",
       "\n",
       "    .dataframe tbody tr th {\n",
       "        vertical-align: top;\n",
       "    }\n",
       "\n",
       "    .dataframe thead th {\n",
       "        text-align: right;\n",
       "    }\n",
       "</style>\n",
       "<table border=\"1\" class=\"dataframe\">\n",
       "  <thead>\n",
       "    <tr style=\"text-align: right;\">\n",
       "      <th></th>\n",
       "      <th>Unnamed: 0</th>\n",
       "      <th>Unnamed: 0.1</th>\n",
       "      <th>text</th>\n",
       "      <th>class</th>\n",
       "    </tr>\n",
       "  </thead>\n",
       "  <tbody>\n",
       "    <tr>\n",
       "      <th>0</th>\n",
       "      <td>0</td>\n",
       "      <td>2</td>\n",
       "      <td>ex wife threatening suiciderecently i left my ...</td>\n",
       "      <td>suicide</td>\n",
       "    </tr>\n",
       "    <tr>\n",
       "      <th>1</th>\n",
       "      <td>1</td>\n",
       "      <td>3</td>\n",
       "      <td>am i weird i dont get affected by compliments ...</td>\n",
       "      <td>non-suicide</td>\n",
       "    </tr>\n",
       "    <tr>\n",
       "      <th>2</th>\n",
       "      <td>2</td>\n",
       "      <td>4</td>\n",
       "      <td>finally 2020 is almost over so i can never hea...</td>\n",
       "      <td>non-suicide</td>\n",
       "    </tr>\n",
       "    <tr>\n",
       "      <th>3</th>\n",
       "      <td>3</td>\n",
       "      <td>8</td>\n",
       "      <td>i need helpjust help im crying so hard</td>\n",
       "      <td>suicide</td>\n",
       "    </tr>\n",
       "    <tr>\n",
       "      <th>4</th>\n",
       "      <td>4</td>\n",
       "      <td>9</td>\n",
       "      <td>im so losthello my name is adam 16 and ive bee...</td>\n",
       "      <td>suicide</td>\n",
       "    </tr>\n",
       "  </tbody>\n",
       "</table>\n",
       "</div>"
      ],
      "text/plain": [
       "   Unnamed: 0  Unnamed: 0.1  \\\n",
       "0           0             2   \n",
       "1           1             3   \n",
       "2           2             4   \n",
       "3           3             8   \n",
       "4           4             9   \n",
       "\n",
       "                                                text        class  \n",
       "0  ex wife threatening suiciderecently i left my ...      suicide  \n",
       "1  am i weird i dont get affected by compliments ...  non-suicide  \n",
       "2  finally 2020 is almost over so i can never hea...  non-suicide  \n",
       "3             i need helpjust help im crying so hard      suicide  \n",
       "4  im so losthello my name is adam 16 and ive bee...      suicide  "
      ]
     },
     "execution_count": 3,
     "metadata": {},
     "output_type": "execute_result"
    }
   ],
   "source": [
    "data.head()"
   ]
  },
  {
   "cell_type": "markdown",
   "id": "1ff92948",
   "metadata": {},
   "source": [
    "## Finding the shape that means number of rows and columns in the dataset"
   ]
  },
  {
   "cell_type": "code",
   "execution_count": 4,
   "id": "e85391e7",
   "metadata": {},
   "outputs": [
    {
     "data": {
      "text/plain": [
       "(232074, 4)"
      ]
     },
     "execution_count": 4,
     "metadata": {},
     "output_type": "execute_result"
    }
   ],
   "source": [
    "# Check dimensions of the data\n",
    "data.shape"
   ]
  },
  {
   "cell_type": "markdown",
   "id": "fe7b79bb",
   "metadata": {},
   "source": [
    "## Checking each column datatype which will be helpful to identift the technique to apply in each column"
   ]
  },
  {
   "cell_type": "code",
   "execution_count": 5,
   "id": "a36bc95a",
   "metadata": {},
   "outputs": [
    {
     "data": {
      "text/plain": [
       "Unnamed: 0       int64\n",
       "Unnamed: 0.1     int64\n",
       "text            object\n",
       "class           object\n",
       "dtype: object"
      ]
     },
     "execution_count": 5,
     "metadata": {},
     "output_type": "execute_result"
    }
   ],
   "source": [
    "# Check Datatypes\n",
    "data.dtypes"
   ]
  },
  {
   "cell_type": "markdown",
   "id": "21b43c06",
   "metadata": {},
   "source": [
    "## Counting the number of missing values in each column"
   ]
  },
  {
   "cell_type": "code",
   "execution_count": 6,
   "id": "c8739261",
   "metadata": {},
   "outputs": [
    {
     "data": {
      "text/plain": [
       "Unnamed: 0       0\n",
       "Unnamed: 0.1     0\n",
       "text            50\n",
       "class            0\n",
       "dtype: int64"
      ]
     },
     "execution_count": 6,
     "metadata": {},
     "output_type": "execute_result"
    }
   ],
   "source": [
    "# Check missing values in each column of training data\n",
    "data.isnull().sum()"
   ]
  },
  {
   "cell_type": "markdown",
   "id": "b78e317c",
   "metadata": {},
   "source": [
    "## Filling the missing values and also counting total number of values present in both the classes"
   ]
  },
  {
   "cell_type": "code",
   "execution_count": 7,
   "id": "c214c620",
   "metadata": {},
   "outputs": [
    {
     "data": {
      "text/plain": [
       "suicide        116037\n",
       "non-suicide    116037\n",
       "Name: class, dtype: int64"
      ]
     },
     "execution_count": 7,
     "metadata": {},
     "output_type": "execute_result"
    }
   ],
   "source": [
    "data = data.fillna('')\n",
    "\n",
    "data['class'].value_counts()"
   ]
  },
  {
   "cell_type": "markdown",
   "id": "4adae240",
   "metadata": {},
   "source": [
    "## Here we can see that the dataset is balanced that is each class contains equal number of records\n",
    "\n",
    "## Plotting this data for visualization purpose"
   ]
  },
  {
   "cell_type": "code",
   "execution_count": 8,
   "id": "9a2665bd",
   "metadata": {},
   "outputs": [
    {
     "data": {
      "text/plain": [
       "Text(0.5, 0.98, 'Categorical Plotting')"
      ]
     },
     "execution_count": 8,
     "metadata": {},
     "output_type": "execute_result"
    },
    {
     "data": {
      "image/png": "[encoded data removed]",
      "text/plain": [
       "<Figure size 648x216 with 3 Axes>"
      ]
     },
     "metadata": {
      "needs_background": "light"
     },
     "output_type": "display_data"
    }
   ],
   "source": [
    "df = data['class'].value_counts()\n",
    "names = list(df.keys())\n",
    "values = list(df.values)\n",
    "\n",
    "fig, axs = plt.subplots(1, 3, figsize=(9, 3), sharey=True)\n",
    "axs[0].bar(names, values)\n",
    "axs[1].scatter(names, values)\n",
    "axs[2].plot(names, values)\n",
    "fig.suptitle('Categorical Plotting')"
   ]
  },
  {
   "cell_type": "markdown",
   "id": "2976dfda",
   "metadata": {},
   "source": [
    "## Transforming the sentences and then calculating the acurracy score with the help of Logistic Regression"
   ]
  },
  {
   "cell_type": "code",
   "execution_count": 9,
   "id": "3fcc2640",
   "metadata": {},
   "outputs": [
    {
     "name": "stderr",
     "output_type": "stream",
     "text": [
      "C:\\Users\\dell\\AppData\\Roaming\\Python\\Python38\\site-packages\\sklearn\\linear_model\\_logistic.py:762: ConvergenceWarning: lbfgs failed to converge (status=1):\n",
      "STOP: TOTAL NO. of ITERATIONS REACHED LIMIT.\n",
      "\n",
      "Increase the number of iterations (max_iter) or scale the data as shown in:\n",
      "    https://scikit-learn.org/stable/modules/preprocessing.html\n",
      "Please also refer to the documentation for alternative solver options:\n",
      "    https://scikit-learn.org/stable/modules/linear_model.html#logistic-regression\n",
      "  n_iter_i = _check_optimize_result(\n"
     ]
    },
    {
     "name": "stdout",
     "output_type": "stream",
     "text": [
      "Score-Logistic Regression 0.9261230205752451\n"
     ]
    }
   ],
   "source": [
    "df_ml = data\n",
    "\n",
    "sentences = data['text'].values\n",
    "y = df_ml['class'].values\n",
    "\n",
    "sentences_train, sentences_test, y_train, y_test = train_test_split(\n",
    "sentences, y, test_size=0.20, random_state=1000)\n",
    "\n",
    "\n",
    "from sklearn.feature_extraction.text import CountVectorizer\n",
    "\n",
    "vectorizer = CountVectorizer()\n",
    "\n",
    "vectorizer.fit(sentences_train)\n",
    "\n",
    "X_train = vectorizer.transform(sentences_train)\n",
    "X_test  = vectorizer.transform(sentences_test)\n",
    "X_train\n",
    "\n",
    "from sklearn.linear_model import LogisticRegression\n",
    "\n",
    "classifier = LogisticRegression()\n",
    "classifier.fit(X_train, y_train)\n",
    "score = classifier.score(X_test, y_test)\n",
    "print('Score-Logistic Regression', score)"
   ]
  },
  {
   "cell_type": "markdown",
   "id": "9c956449",
   "metadata": {},
   "source": [
    "## Deploying the above obtained accuracy model"
   ]
  },
  {
   "cell_type": "code",
   "execution_count": 10,
   "id": "571cf767",
   "metadata": {},
   "outputs": [],
   "source": [
    "#Prediction deployment function sample\n",
    "def predict_category(s,train=y,model=classifier):\n",
    "    V=[s]\n",
    "    vect = CountVectorizer()\n",
    "    vect.fit(V)\n",
    "    pr = vectorizer.transform(V)\n",
    "    pred=model.predict(pr)\n",
    "    \n",
    "    return pred[0]"
   ]
  },
  {
   "cell_type": "markdown",
   "id": "25f7feca",
   "metadata": {},
   "source": [
    "## Predicting by giving self made example"
   ]
  },
  {
   "cell_type": "code",
   "execution_count": 11,
   "id": "1bf69c34",
   "metadata": {},
   "outputs": [
    {
     "data": {
      "text/plain": [
       "'non-suicide'"
      ]
     },
     "execution_count": 11,
     "metadata": {},
     "output_type": "execute_result"
    }
   ],
   "source": [
    "predict_category('I am enjoying my life to full extent as it is beautiful')"
   ]
  },
  {
   "cell_type": "markdown",
   "id": "50c8b466",
   "metadata": {},
   "source": [
    "## Truly classified that is sentence is non-suicide and it also predicted non-suicide"
   ]
  },
  {
   "cell_type": "code",
   "execution_count": 14,
   "id": "c7b9dd6f",
   "metadata": {},
   "outputs": [
    {
     "name": "stderr",
     "output_type": "stream",
     "text": [
      "C:\\Users\\dell\\AppData\\Roaming\\Python\\Python38\\site-packages\\sklearn\\linear_model\\_logistic.py:762: ConvergenceWarning: lbfgs failed to converge (status=1):\n",
      "STOP: TOTAL NO. of ITERATIONS REACHED LIMIT.\n",
      "\n",
      "Increase the number of iterations (max_iter) or scale the data as shown in:\n",
      "    https://scikit-learn.org/stable/modules/preprocessing.html\n",
      "Please also refer to the documentation for alternative solver options:\n",
      "    https://scikit-learn.org/stable/modules/linear_model.html#logistic-regression\n",
      "  n_iter_i = _check_optimize_result(\n",
      "C:\\Users\\dell\\AppData\\Roaming\\Python\\Python38\\site-packages\\sklearn\\linear_model\\_logistic.py:762: ConvergenceWarning: lbfgs failed to converge (status=1):\n",
      "STOP: TOTAL NO. of ITERATIONS REACHED LIMIT.\n",
      "\n",
      "Increase the number of iterations (max_iter) or scale the data as shown in:\n",
      "    https://scikit-learn.org/stable/modules/preprocessing.html\n",
      "Please also refer to the documentation for alternative solver options:\n",
      "    https://scikit-learn.org/stable/modules/linear_model.html#logistic-regression\n",
      "  n_iter_i = _check_optimize_result(\n",
      "C:\\Users\\dell\\AppData\\Roaming\\Python\\Python38\\site-packages\\sklearn\\linear_model\\_logistic.py:762: ConvergenceWarning: lbfgs failed to converge (status=1):\n",
      "STOP: TOTAL NO. of ITERATIONS REACHED LIMIT.\n",
      "\n",
      "Increase the number of iterations (max_iter) or scale the data as shown in:\n",
      "    https://scikit-learn.org/stable/modules/preprocessing.html\n",
      "Please also refer to the documentation for alternative solver options:\n",
      "    https://scikit-learn.org/stable/modules/linear_model.html#logistic-regression\n",
      "  n_iter_i = _check_optimize_result(\n"
     ]
    }
   ],
   "source": [
    "#Error analysis\n",
    "from sklearn.model_selection import cross_val_predict\n",
    "\n",
    "y_train_pred=cross_val_predict(classifier,X_train,y_train,cv=3)"
   ]
  },
  {
   "cell_type": "markdown",
   "id": "cded885d",
   "metadata": {},
   "source": [
    "## Making confusion matrix with the help of sklearn and mapping it which consists of true positive, true negative,false positive,false negative"
   ]
  },
  {
   "cell_type": "code",
   "execution_count": 15,
   "id": "f6c9aeff",
   "metadata": {},
   "outputs": [
    {
     "name": "stdout",
     "output_type": "stream",
     "text": [
      "[0.91116157 0.94770402]\n",
      "[0.95004789 0.90717136]\n",
      "[0.9301985  0.92699483]\n"
     ]
    },
    {
     "data": {
      "text/plain": [
       "<matplotlib.image.AxesImage at 0x27cd3640>"
      ]
     },
     "execution_count": 15,
     "metadata": {},
     "output_type": "execute_result"
    },
    {
     "data": {
      "image/png": "[encoded data removed]",
      "text/plain": [
       "<Figure size 288x288 with 1 Axes>"
      ]
     },
     "metadata": {
      "needs_background": "light"
     },
     "output_type": "display_data"
    }
   ],
   "source": [
    "from sklearn.metrics import precision_score,recall_score,f1_score\n",
    "\n",
    "print(precision_score(y_train,y_train_pred,average=None))\n",
    "print(recall_score(y_train,y_train_pred,average=None))\n",
    "print(f1_score(y_train,y_train_pred,average=None))\n",
    "\n",
    "from sklearn.metrics import confusion_matrix\n",
    "\n",
    "conf_matrix=confusion_matrix(y_train,y_train_pred)\n",
    "\n",
    "plt.matshow(conf_matrix,cmap=plt.cm.gray)"
   ]
  },
  {
   "cell_type": "code",
   "execution_count": null,
   "id": "ac69c286",
   "metadata": {},
   "outputs": [],
   "source": []
  }
 ],
 "metadata": {
  "kernelspec": {
   "display_name": "Python 3 (ipykernel)",
   "language": "python",
   "name": "python3"
  },
  "language_info": {
   "codemirror_mode": {
    "name": "ipython",
    "version": 3
   },
   "file_extension": ".py",
   "mimetype": "text/x-python",
   "name": "python",
   "nbconvert_exporter": "python",
   "pygments_lexer": "ipython3",
   "version": "3.8.8"
  }
 },
 "nbformat": 4,
 "nbformat_minor": 5
}
